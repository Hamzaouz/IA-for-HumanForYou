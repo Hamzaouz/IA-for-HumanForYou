{
 "cells": [
  {
   "cell_type": "markdown",
   "metadata": {},
   "source": [
    "## 1. Chargement et Préparation des Données\n",
    "\n",
    "### 1.1 Importation des données"
   ]
  },
  {
   "cell_type": "code",
   "execution_count": 77,
   "metadata": {},
   "outputs": [],
   "source": [
    "import pandas as pd\n",
    "import numpy as np\n",
    "import matplotlib.pyplot as plt\n",
    "import seaborn as sns\n",
    "from sklearn.model_selection import train_test_split\n",
    "from sklearn.preprocessing import StandardScaler, OneHotEncoder\n",
    "from sklearn.compose import ColumnTransformer\n",
    "from sklearn.pipeline import Pipeline\n",
    "from sklearn.metrics import confusion_matrix, classification_report, roc_curve, roc_auc_score\n",
    "from sklearn.linear_model import Perceptron, LogisticRegression\n",
    "from sklearn.svm import SVC\n",
    "from sklearn.neighbors import KNeighborsClassifier\n",
    "from sklearn.naive_bayes import GaussianNB\n"
   ]
  },
  {
   "cell_type": "markdown",
   "metadata": {},
   "source": [
    "### 1.2 Load and Merge Data (Charger et Fusionner les Données)\n",
    "Objectif : Charger tous les fichiers CSV, puis fusionner les données sur EmployeeID."
   ]
  },
  {
   "cell_type": "code",
   "execution_count": 78,
   "metadata": {},
   "outputs": [
    {
     "name": "stdout",
     "output_type": "stream",
     "text": [
      "   EmployeeID  EnvironmentSatisfaction  ...  JobInvolvement  PerformanceRating\n",
      "0           1                      3.0  ...               3                  3\n",
      "1           2                      3.0  ...               2                  4\n",
      "2           3                      2.0  ...               3                  3\n",
      "3           4                      4.0  ...               2                  3\n",
      "4           5                      4.0  ...               3                  3\n",
      "\n",
      "[5 rows x 29 columns]\n"
     ]
    }
   ],
   "source": [
    "\n",
    "employee_df = pd.read_csv(\"data/employee_survey_data.csv\")\n",
    "general_df = pd.read_csv(\"data/general_data.csv\")\n",
    "manager_df = pd.read_csv(\"data/manager_survey_data.csv\")\n",
    "in_time_df = pd.read_csv(\"data/in_time.csv\")\n",
    "out_time_df = pd.read_csv(\"data/out_time.csv\")\n",
    "\n",
    "# Merge employee_df and general_df on EmployeeID\n",
    "merged_df = pd.merge(employee_df, general_df, on=\"EmployeeID\", how=\"inner\")\n",
    "\n",
    "# Merge in manager_df\n",
    "merged_df = pd.merge(merged_df, manager_df, on=\"EmployeeID\", how=\"inner\")\n",
    "\n",
    "\n",
    "# Afficher un aperçu\n",
    "print(merged_df.head())\n"
   ]
  },
  {
   "cell_type": "markdown",
   "metadata": {},
   "source": [
    "### 1.3 Drop Irrelevant Columns (Supprimer les Colonnes Inutiles)\n",
    "Objectif : Supprimer les colonnes qui n'apportent pas d'informations utiles à l'analyse.\n",
    "#### Colonnes à supprimer :\n",
    "- Over18 : Tous les employés ont plus de 18 ans.\n",
    "- EmployeeCount : Toujours égal à 1 (inutile).\n",
    "- StandardHours : Toujours égal à 8 (inutile)."
   ]
  },
  {
   "cell_type": "code",
   "execution_count": 79,
   "metadata": {},
   "outputs": [
    {
     "name": "stdout",
     "output_type": "stream",
     "text": [
      "   EmployeeID  EnvironmentSatisfaction  ...  JobInvolvement  PerformanceRating\n",
      "0           1                      3.0  ...               3                  3\n",
      "1           2                      3.0  ...               2                  4\n",
      "2           3                      2.0  ...               3                  3\n",
      "3           4                      4.0  ...               2                  3\n",
      "4           5                      4.0  ...               3                  3\n",
      "\n",
      "[5 rows x 26 columns]\n"
     ]
    }
   ],
   "source": [
    "# Supprimer les colonnes inutiles\n",
    "columns_to_drop = [\"EmployeeCount\", \"Over18\", \"StandardHours\"]\n",
    "merged_df.drop(columns=columns_to_drop, axis=1, inplace=True, errors=\"ignore\")\n",
    "# Visualiser apres suppression de quelques colonnes\n",
    "print(merged_df.head())\n"
   ]
  },
  {
   "cell_type": "markdown",
   "metadata": {},
   "source": [
    "### 1.4 Clean up and Prepare Time Data (Nettoyage et Préparation des Données de Temps)\n",
    "Objectif : Transformer les fichiers in_time et out_time pour obtenir le nombre d'heures travaillées.\n",
    "\n",
    "#### Actions :\n",
    "- Convertir les dates en format datetime.\n",
    "- Calculer la durée travaillée chaque jour (out_time - in_time).\n",
    "- Calculer la moyenne des heures travaillées pour chaque employé."
   ]
  },
  {
   "cell_type": "code",
   "execution_count": 80,
   "metadata": {},
   "outputs": [
    {
     "name": "stdout",
     "output_type": "stream",
     "text": [
      "   EmployeeID  AverageWorkHours\n",
      "0           1          7.373651\n",
      "1           2          7.718969\n",
      "2           3          7.013240\n",
      "3           4          7.193678\n",
      "4           5          8.006175\n"
     ]
    }
   ],
   "source": [
    "# Rename 'Unnamed: 0' to 'EmployeeID' for easier merging\n",
    "in_time_df.rename(columns={\"Unnamed: 0\": \"EmployeeID\"}, inplace=True)\n",
    "out_time_df.rename(columns={\"Unnamed: 0\": \"EmployeeID\"}, inplace=True)\n",
    "\n",
    "# We’ll create a separate DataFrame that holds each employee’s average work hours\n",
    "# Convert time columns to datetime (ignore errors if any NaNs or incorrect formats appear)\n",
    "time_cols = in_time_df.columns[1:]  # skip EmployeeID column\n",
    "in_time_df[time_cols] = in_time_df[time_cols].apply(pd.to_datetime, errors=\"coerce\")\n",
    "out_time_df[time_cols] = out_time_df[time_cols].apply(pd.to_datetime, errors=\"coerce\")\n",
    "\n",
    "# Calculate the daily hours as OUT - IN\n",
    "# This returns a DataFrame of timedeltas; convert to hours by dividing total_seconds by 3600\n",
    "daily_hours = out_time_df[time_cols].sub(in_time_df[time_cols])\n",
    "daily_hours = daily_hours.apply(lambda row: row.dt.total_seconds() / 3600)\n",
    "\n",
    "# Create average hours feature per employee\n",
    "avg_hours_df = pd.DataFrame({\n",
    "    \"EmployeeID\": in_time_df[\"EmployeeID\"],\n",
    "    \"AverageWorkHours\": daily_hours.mean(axis=1)  # mean across all days\n",
    "})\n",
    "\n",
    "# Merge avg_hours_df with merged_df\n",
    "merged_df = pd.merge(merged_df, avg_hours_df, on=\"EmployeeID\", how=\"left\")\n",
    "\n",
    "print(merged_df[[\"EmployeeID\", \"AverageWorkHours\"]].head())\n"
   ]
  },
  {
   "cell_type": "markdown",
   "metadata": {},
   "source": [
    "### 1.5 Merge Time Features Back (Fusionner les Données de Temps dans le Dataset Principal)\n",
    "**Objectif** : Ajouter la colonne AverageWorkHours au dataset fusionné."
   ]
  },
  {
   "cell_type": "code",
   "execution_count": 81,
   "metadata": {},
   "outputs": [
    {
     "name": "stdout",
     "output_type": "stream",
     "text": [
      "   EmployeeID  EnvironmentSatisfaction  ...  AverageWorkHours_x  AverageWorkHours_y\n",
      "0           1                      3.0  ...            7.373651            7.373651\n",
      "1           2                      3.0  ...            7.718969            7.718969\n",
      "2           3                      2.0  ...            7.013240            7.013240\n",
      "3           4                      4.0  ...            7.193678            7.193678\n",
      "4           5                      4.0  ...            8.006175            8.006175\n",
      "\n",
      "[5 rows x 28 columns]\n"
     ]
    }
   ],
   "source": [
    "# Fusionner les données de temps avec le dataset principal\n",
    "final_df = pd.merge(merged_df, avg_hours_df, on=\"EmployeeID\", how=\"left\")\n",
    "\n",
    "# Vérifier les mises à jour\n",
    "print(final_df.head())\n"
   ]
  },
  {
   "cell_type": "markdown",
   "metadata": {},
   "source": [
    "### 1.6 Create or Transform Other Meaningful Features (Créer ou Transformer des Variables Intéressantes)\n",
    "**Objectif** : Transformer les variables en formats exploitables pour l’analyse et les modèles.\n",
    "\n",
    "#### Transformations importantes :\n",
    "Encodage de Attrition : Convertir Yes/No en 1/0.\n",
    "Remplacer les valeurs manquantes (NA) dans employee_survey_data.csv par la médiane.\n",
    "Encodage des variables catégorielles (BusinessTravel, EducationField, etc.).\n",
    "Création d'une variable YearsSinceLastPromotionRatio : YearsSinceLastPromotion / YearsAtCompany."
   ]
  },
  {
   "cell_type": "code",
   "execution_count": 82,
   "metadata": {},
   "outputs": [
    {
     "name": "stdout",
     "output_type": "stream",
     "text": [
      "   EmployeeID  ...  YearsSinceLastPromotionRatio\n",
      "0           1  ...                      0.000000\n",
      "1           2  ...                      0.166667\n",
      "2           3  ...                      0.000000\n",
      "3           4  ...                      0.777778\n",
      "4           5  ...                      0.000000\n",
      "\n",
      "[5 rows x 42 columns]\n"
     ]
    },
    {
     "name": "stderr",
     "output_type": "stream",
     "text": [
      "C:\\Users\\hamza\\AppData\\Local\\Temp\\ipykernel_38772\\3592201222.py:6: FutureWarning: A value is trying to be set on a copy of a DataFrame or Series through chained assignment using an inplace method.\n",
      "The behavior will change in pandas 3.0. This inplace method will never work because the intermediate object on which we are setting values always behaves as a copy.\n",
      "\n",
      "For example, when doing 'df[col].method(value, inplace=True)', try using 'df.method({col: value}, inplace=True)' or df[col] = df[col].method(value) instead, to perform the operation inplace on the original object.\n",
      "\n",
      "\n",
      "  final_df[col].fillna(final_df[col].median(), inplace=True)\n",
      "C:\\Users\\hamza\\AppData\\Local\\Temp\\ipykernel_38772\\3592201222.py:6: FutureWarning: A value is trying to be set on a copy of a DataFrame or Series through chained assignment using an inplace method.\n",
      "The behavior will change in pandas 3.0. This inplace method will never work because the intermediate object on which we are setting values always behaves as a copy.\n",
      "\n",
      "For example, when doing 'df[col].method(value, inplace=True)', try using 'df.method({col: value}, inplace=True)' or df[col] = df[col].method(value) instead, to perform the operation inplace on the original object.\n",
      "\n",
      "\n",
      "  final_df[col].fillna(final_df[col].median(), inplace=True)\n",
      "C:\\Users\\hamza\\AppData\\Local\\Temp\\ipykernel_38772\\3592201222.py:6: FutureWarning: A value is trying to be set on a copy of a DataFrame or Series through chained assignment using an inplace method.\n",
      "The behavior will change in pandas 3.0. This inplace method will never work because the intermediate object on which we are setting values always behaves as a copy.\n",
      "\n",
      "For example, when doing 'df[col].method(value, inplace=True)', try using 'df.method({col: value}, inplace=True)' or df[col] = df[col].method(value) instead, to perform the operation inplace on the original object.\n",
      "\n",
      "\n",
      "  final_df[col].fillna(final_df[col].median(), inplace=True)\n"
     ]
    }
   ],
   "source": [
    "# Transformer la colonne 'Attrition' en variable binaire\n",
    "final_df[\"Attrition\"] = final_df[\"Attrition\"].map({\"No\": 0, \"Yes\": 1})\n",
    "\n",
    "# Remplacer les valeurs manquantes par la médiane dans employee_survey_data\n",
    "for col in [\"EnvironmentSatisfaction\", \"JobSatisfaction\", \"WorkLifeBalance\"]:\n",
    "    final_df[col].fillna(final_df[col].median(), inplace=True)\n",
    "\n",
    "# Encodage des variables catégorielles avec pandas get_dummies\n",
    "final_df = pd.get_dummies(final_df, columns=[\"BusinessTravel\", \"EducationField\", \"MaritalStatus\", \"JobRole\"], drop_first=True)\n",
    "\n",
    "# Créer une variable 'YearsSinceLastPromotionRatio'\n",
    "final_df[\"YearsSinceLastPromotionRatio\"] = final_df[\"YearsSinceLastPromotion\"] / (final_df[\"YearsAtCompany\"] + 1)\n",
    "\n",
    "# Vérifier les mises à jour\n",
    "print(final_df.head())\n"
   ]
  },
  {
   "cell_type": "markdown",
   "metadata": {},
   "source": [
    "## Préparation des Données\n",
    "### 1. Gestion des valeurs manquantes"
   ]
  },
  {
   "cell_type": "code",
   "execution_count": 83,
   "metadata": {},
   "outputs": [
    {
     "data": {
      "text/plain": [
       "EnvironmentSatisfaction         0\n",
       "JobSatisfaction                 0\n",
       "WorkLifeBalance                 0\n",
       "NumCompaniesWorked              0\n",
       "TotalWorkingYears               0\n",
       "AverageWorkHours_x              0\n",
       "AverageWorkHours_y              0\n",
       "YearsSinceLastPromotionRatio    0\n",
       "dtype: int64"
      ]
     },
     "execution_count": 83,
     "metadata": {},
     "output_type": "execute_result"
    }
   ],
   "source": [
    "# Vérifier les valeurs manquantes\n",
    "final_df.isnull().sum()\n",
    "\n",
    "# Imputer les valeurs manquantes pour les variables numériques avec la médiane\n",
    "from sklearn.impute import SimpleImputer\n",
    "imputer = SimpleImputer(strategy=\"median\")\n",
    "\n",
    "# Sélection des colonnes numériques\n",
    "\n",
    "## à Compléter\n",
    "df_num = final_df.select_dtypes(include=float)\n",
    "imputer.fit(df_num)\n",
    "## à Compléter\n",
    "\n",
    "# Remplacement des valeurs manquantes\n",
    "df_num_imputed = pd.DataFrame(imputer.transform(df_num), columns=df_num.columns)\n",
    "\n",
    "# Vérifier s'il reste des valeurs manquantes\n",
    "df_num_imputed.isnull().sum()"
   ]
  },
  {
   "cell_type": "markdown",
   "metadata": {},
   "source": [
    "### 2. Encodage des variables catégorielles"
   ]
  },
  {
   "cell_type": "code",
   "execution_count": 84,
   "metadata": {},
   "outputs": [
    {
     "data": {
      "text/html": [
       "<div>\n",
       "<style scoped>\n",
       "    .dataframe tbody tr th:only-of-type {\n",
       "        vertical-align: middle;\n",
       "    }\n",
       "\n",
       "    .dataframe tbody tr th {\n",
       "        vertical-align: top;\n",
       "    }\n",
       "\n",
       "    .dataframe thead th {\n",
       "        text-align: right;\n",
       "    }\n",
       "</style>\n",
       "<table border=\"1\" class=\"dataframe\">\n",
       "  <thead>\n",
       "    <tr style=\"text-align: right;\">\n",
       "      <th></th>\n",
       "      <th>Department_Human Resources</th>\n",
       "      <th>Department_Research &amp; Development</th>\n",
       "      <th>Department_Sales</th>\n",
       "      <th>Gender_Female</th>\n",
       "      <th>Gender_Male</th>\n",
       "    </tr>\n",
       "  </thead>\n",
       "  <tbody>\n",
       "    <tr>\n",
       "      <th>0</th>\n",
       "      <td>False</td>\n",
       "      <td>False</td>\n",
       "      <td>True</td>\n",
       "      <td>True</td>\n",
       "      <td>False</td>\n",
       "    </tr>\n",
       "    <tr>\n",
       "      <th>1</th>\n",
       "      <td>False</td>\n",
       "      <td>True</td>\n",
       "      <td>False</td>\n",
       "      <td>True</td>\n",
       "      <td>False</td>\n",
       "    </tr>\n",
       "    <tr>\n",
       "      <th>2</th>\n",
       "      <td>False</td>\n",
       "      <td>True</td>\n",
       "      <td>False</td>\n",
       "      <td>False</td>\n",
       "      <td>True</td>\n",
       "    </tr>\n",
       "    <tr>\n",
       "      <th>3</th>\n",
       "      <td>False</td>\n",
       "      <td>True</td>\n",
       "      <td>False</td>\n",
       "      <td>False</td>\n",
       "      <td>True</td>\n",
       "    </tr>\n",
       "    <tr>\n",
       "      <th>4</th>\n",
       "      <td>False</td>\n",
       "      <td>True</td>\n",
       "      <td>False</td>\n",
       "      <td>False</td>\n",
       "      <td>True</td>\n",
       "    </tr>\n",
       "  </tbody>\n",
       "</table>\n",
       "</div>"
      ],
      "text/plain": [
       "   Department_Human Resources  ...  Gender_Male\n",
       "0                       False  ...        False\n",
       "1                       False  ...        False\n",
       "2                       False  ...         True\n",
       "3                       False  ...         True\n",
       "4                       False  ...         True\n",
       "\n",
       "[5 rows x 5 columns]"
      ]
     },
     "execution_count": 84,
     "metadata": {},
     "output_type": "execute_result"
    }
   ],
   "source": [
    "# Sélection des colonnes catégorielles\n",
    "df_cat = final_df.select_dtypes(include=[object])\n",
    "\n",
    "# Encodage one-hot des variables catégorielles\n",
    "\n",
    "## à Compléter\n",
    "df_cat_encoded = pd.get_dummies(df_cat)\n",
    "## à Compléter \n",
    "\n",
    "# Vérification du résultat de l'encodage\n",
    "df_cat_encoded.head()"
   ]
  },
  {
   "cell_type": "markdown",
   "metadata": {},
   "source": [
    "### 3. Normalization des données"
   ]
  },
  {
   "cell_type": "code",
   "execution_count": 85,
   "metadata": {},
   "outputs": [
    {
     "data": {
      "text/html": [
       "<div>\n",
       "<style scoped>\n",
       "    .dataframe tbody tr th:only-of-type {\n",
       "        vertical-align: middle;\n",
       "    }\n",
       "\n",
       "    .dataframe tbody tr th {\n",
       "        vertical-align: top;\n",
       "    }\n",
       "\n",
       "    .dataframe thead th {\n",
       "        text-align: right;\n",
       "    }\n",
       "</style>\n",
       "<table border=\"1\" class=\"dataframe\">\n",
       "  <thead>\n",
       "    <tr style=\"text-align: right;\">\n",
       "      <th></th>\n",
       "      <th>EnvironmentSatisfaction</th>\n",
       "      <th>JobSatisfaction</th>\n",
       "      <th>WorkLifeBalance</th>\n",
       "      <th>NumCompaniesWorked</th>\n",
       "      <th>TotalWorkingYears</th>\n",
       "      <th>AverageWorkHours_x</th>\n",
       "      <th>AverageWorkHours_y</th>\n",
       "      <th>YearsSinceLastPromotionRatio</th>\n",
       "    </tr>\n",
       "  </thead>\n",
       "  <tbody>\n",
       "    <tr>\n",
       "      <th>0</th>\n",
       "      <td>0.252200</td>\n",
       "      <td>1.156302</td>\n",
       "      <td>-1.085336</td>\n",
       "      <td>-0.678464</td>\n",
       "      <td>-1.322079</td>\n",
       "      <td>-0.244123</td>\n",
       "      <td>-0.244123</td>\n",
       "      <td>-0.878153</td>\n",
       "    </tr>\n",
       "    <tr>\n",
       "      <th>1</th>\n",
       "      <td>0.252200</td>\n",
       "      <td>-0.663899</td>\n",
       "      <td>1.757749</td>\n",
       "      <td>-1.079486</td>\n",
       "      <td>-0.678877</td>\n",
       "      <td>0.013564</td>\n",
       "      <td>0.013564</td>\n",
       "      <td>-0.259189</td>\n",
       "    </tr>\n",
       "    <tr>\n",
       "      <th>2</th>\n",
       "      <td>-0.665460</td>\n",
       "      <td>-0.663899</td>\n",
       "      <td>-2.506879</td>\n",
       "      <td>-0.678464</td>\n",
       "      <td>-0.807517</td>\n",
       "      <td>-0.513073</td>\n",
       "      <td>-0.513073</td>\n",
       "      <td>-0.878153</td>\n",
       "    </tr>\n",
       "    <tr>\n",
       "      <th>3</th>\n",
       "      <td>1.169861</td>\n",
       "      <td>1.156302</td>\n",
       "      <td>0.336206</td>\n",
       "      <td>0.123580</td>\n",
       "      <td>0.221606</td>\n",
       "      <td>-0.378424</td>\n",
       "      <td>-0.378424</td>\n",
       "      <td>2.010349</td>\n",
       "    </tr>\n",
       "    <tr>\n",
       "      <th>4</th>\n",
       "      <td>1.169861</td>\n",
       "      <td>-1.573999</td>\n",
       "      <td>0.336206</td>\n",
       "      <td>0.524602</td>\n",
       "      <td>-0.292956</td>\n",
       "      <td>0.227886</td>\n",
       "      <td>0.227886</td>\n",
       "      <td>-0.878153</td>\n",
       "    </tr>\n",
       "  </tbody>\n",
       "</table>\n",
       "</div>"
      ],
      "text/plain": [
       "   EnvironmentSatisfaction  ...  YearsSinceLastPromotionRatio\n",
       "0                 0.252200  ...                     -0.878153\n",
       "1                 0.252200  ...                     -0.259189\n",
       "2                -0.665460  ...                     -0.878153\n",
       "3                 1.169861  ...                      2.010349\n",
       "4                 1.169861  ...                     -0.878153\n",
       "\n",
       "[5 rows x 8 columns]"
      ]
     },
     "execution_count": 85,
     "metadata": {},
     "output_type": "execute_result"
    }
   ],
   "source": [
    "# Normalisation des colonnes numériques\n",
    "scaler = StandardScaler()\n",
    "df_num_scaled = pd.DataFrame(scaler.fit_transform(df_num_imputed), columns=df_num_imputed.columns)\n",
    "\n",
    "# Vérification de la normalisation\n",
    "df_num_scaled.head()"
   ]
  },
  {
   "cell_type": "markdown",
   "metadata": {},
   "source": [
    "### 4. Assemblage des données préparées"
   ]
  },
  {
   "cell_type": "code",
   "execution_count": 86,
   "metadata": {},
   "outputs": [
    {
     "data": {
      "text/html": [
       "<div>\n",
       "<style scoped>\n",
       "    .dataframe tbody tr th:only-of-type {\n",
       "        vertical-align: middle;\n",
       "    }\n",
       "\n",
       "    .dataframe tbody tr th {\n",
       "        vertical-align: top;\n",
       "    }\n",
       "\n",
       "    .dataframe thead th {\n",
       "        text-align: right;\n",
       "    }\n",
       "</style>\n",
       "<table border=\"1\" class=\"dataframe\">\n",
       "  <thead>\n",
       "    <tr style=\"text-align: right;\">\n",
       "      <th></th>\n",
       "      <th>EnvironmentSatisfaction</th>\n",
       "      <th>JobSatisfaction</th>\n",
       "      <th>WorkLifeBalance</th>\n",
       "      <th>NumCompaniesWorked</th>\n",
       "      <th>TotalWorkingYears</th>\n",
       "      <th>AverageWorkHours_x</th>\n",
       "      <th>AverageWorkHours_y</th>\n",
       "      <th>YearsSinceLastPromotionRatio</th>\n",
       "      <th>Department_Human Resources</th>\n",
       "      <th>Department_Research &amp; Development</th>\n",
       "      <th>Department_Sales</th>\n",
       "      <th>Gender_Female</th>\n",
       "      <th>Gender_Male</th>\n",
       "      <th>Attrition</th>\n",
       "    </tr>\n",
       "  </thead>\n",
       "  <tbody>\n",
       "    <tr>\n",
       "      <th>0</th>\n",
       "      <td>0.252200</td>\n",
       "      <td>1.156302</td>\n",
       "      <td>-1.085336</td>\n",
       "      <td>-0.678464</td>\n",
       "      <td>-1.322079</td>\n",
       "      <td>-0.244123</td>\n",
       "      <td>-0.244123</td>\n",
       "      <td>-0.878153</td>\n",
       "      <td>False</td>\n",
       "      <td>False</td>\n",
       "      <td>True</td>\n",
       "      <td>True</td>\n",
       "      <td>False</td>\n",
       "      <td>0</td>\n",
       "    </tr>\n",
       "    <tr>\n",
       "      <th>1</th>\n",
       "      <td>0.252200</td>\n",
       "      <td>-0.663899</td>\n",
       "      <td>1.757749</td>\n",
       "      <td>-1.079486</td>\n",
       "      <td>-0.678877</td>\n",
       "      <td>0.013564</td>\n",
       "      <td>0.013564</td>\n",
       "      <td>-0.259189</td>\n",
       "      <td>False</td>\n",
       "      <td>True</td>\n",
       "      <td>False</td>\n",
       "      <td>True</td>\n",
       "      <td>False</td>\n",
       "      <td>1</td>\n",
       "    </tr>\n",
       "    <tr>\n",
       "      <th>2</th>\n",
       "      <td>-0.665460</td>\n",
       "      <td>-0.663899</td>\n",
       "      <td>-2.506879</td>\n",
       "      <td>-0.678464</td>\n",
       "      <td>-0.807517</td>\n",
       "      <td>-0.513073</td>\n",
       "      <td>-0.513073</td>\n",
       "      <td>-0.878153</td>\n",
       "      <td>False</td>\n",
       "      <td>True</td>\n",
       "      <td>False</td>\n",
       "      <td>False</td>\n",
       "      <td>True</td>\n",
       "      <td>0</td>\n",
       "    </tr>\n",
       "    <tr>\n",
       "      <th>3</th>\n",
       "      <td>1.169861</td>\n",
       "      <td>1.156302</td>\n",
       "      <td>0.336206</td>\n",
       "      <td>0.123580</td>\n",
       "      <td>0.221606</td>\n",
       "      <td>-0.378424</td>\n",
       "      <td>-0.378424</td>\n",
       "      <td>2.010349</td>\n",
       "      <td>False</td>\n",
       "      <td>True</td>\n",
       "      <td>False</td>\n",
       "      <td>False</td>\n",
       "      <td>True</td>\n",
       "      <td>0</td>\n",
       "    </tr>\n",
       "    <tr>\n",
       "      <th>4</th>\n",
       "      <td>1.169861</td>\n",
       "      <td>-1.573999</td>\n",
       "      <td>0.336206</td>\n",
       "      <td>0.524602</td>\n",
       "      <td>-0.292956</td>\n",
       "      <td>0.227886</td>\n",
       "      <td>0.227886</td>\n",
       "      <td>-0.878153</td>\n",
       "      <td>False</td>\n",
       "      <td>True</td>\n",
       "      <td>False</td>\n",
       "      <td>False</td>\n",
       "      <td>True</td>\n",
       "      <td>0</td>\n",
       "    </tr>\n",
       "  </tbody>\n",
       "</table>\n",
       "</div>"
      ],
      "text/plain": [
       "   EnvironmentSatisfaction  JobSatisfaction  ...  Gender_Male  Attrition\n",
       "0                 0.252200         1.156302  ...        False          0\n",
       "1                 0.252200        -0.663899  ...        False          1\n",
       "2                -0.665460        -0.663899  ...         True          0\n",
       "3                 1.169861         1.156302  ...         True          0\n",
       "4                 1.169861        -1.573999  ...         True          0\n",
       "\n",
       "[5 rows x 14 columns]"
      ]
     },
     "execution_count": 86,
     "metadata": {},
     "output_type": "execute_result"
    }
   ],
   "source": [
    "# Concatenation des colonnes numériques normalisées et des colonnes catégorielles encodées\n",
    "df_prepared = pd.concat([df_num_scaled, df_cat_encoded], axis=1)\n",
    "df_prepared[\"Attrition\"] = df[\"Attrition\"]\n",
    "# Vérification des données préparées\n",
    "df_prepared.head()"
   ]
  },
  {
   "cell_type": "markdown",
   "metadata": {},
   "source": [
    "### 5. Séparation des caractéristiques (X) et de la cible (y)"
   ]
  },
  {
   "cell_type": "code",
   "execution_count": 87,
   "metadata": {},
   "outputs": [
    {
     "name": "stdout",
     "output_type": "stream",
     "text": [
      "(4410, 13)\n",
      "(4410,)\n"
     ]
    }
   ],
   "source": [
    "# Séparation des caractéristiques et de la cible\n",
    "X = df_prepared.drop([\"Attrition\"], axis = 1)\n",
    "y = df_prepared[\"Attrition\"]\n",
    "\n",
    "# Vérification des dimensions\n",
    "print(X.shape)\n",
    "print(y.shape)"
   ]
  },
  {
   "cell_type": "markdown",
   "metadata": {},
   "source": [
    "## Exploration et Visualisation des Données\n",
    "\n",
    "### 1. Analyse des Statistiques Descriptives\n",
    "\n",
    "Avant de plonger dans la visualisation des données, examinons les statistiques descriptives pour obtenir une première idée des distributions des variables."
   ]
  },
  {
   "cell_type": "code",
   "execution_count": null,
   "metadata": {},
   "outputs": [],
   "source": []
  },
  {
   "cell_type": "markdown",
   "metadata": {},
   "source": [
    "### 2. Tests d'ANOVA & X2\n",
    "write something"
   ]
  },
  {
   "cell_type": "code",
   "execution_count": null,
   "metadata": {},
   "outputs": [],
   "source": []
  },
  {
   "cell_type": "markdown",
   "metadata": {},
   "source": [
    "### 3. Visualisation des Variables Numériques\n",
    "Nous commencerons par visualiser les distributions des variables numériques pour mieux comprendre leurs comportements."
   ]
  },
  {
   "cell_type": "code",
   "execution_count": null,
   "metadata": {},
   "outputs": [],
   "source": []
  },
  {
   "cell_type": "markdown",
   "metadata": {},
   "source": [
    "### 3. Matrice de Corrélation\n",
    "Pour explorer les relations entre les variables numériques, nous utilisons une matrice de corrélation et une heatmap."
   ]
  },
  {
   "cell_type": "code",
   "execution_count": null,
   "metadata": {},
   "outputs": [],
   "source": []
  },
  {
   "cell_type": "markdown",
   "metadata": {},
   "source": [
    "### 4. Visualisation des Relations entre les Variables\n",
    "Nous allons créer quelques graphes de dispersion pour visualiser les relations entre certaines variables clés."
   ]
  },
  {
   "cell_type": "code",
   "execution_count": null,
   "metadata": {},
   "outputs": [],
   "source": []
  },
  {
   "cell_type": "markdown",
   "metadata": {},
   "source": [
    "### 5. Analyse de la Variable Cible\n",
    "Analysons la variable cible Sold6M pour voir comment elle est distribuée."
   ]
  },
  {
   "cell_type": "code",
   "execution_count": null,
   "metadata": {},
   "outputs": [],
   "source": []
  },
  {
   "cell_type": "markdown",
   "metadata": {},
   "source": [
    "### 6. Relations entre les Variables et la Cible\n",
    "Examinons comment certaines variables influencent la probabilité de vendre un bien immobilier dans les 6 mois."
   ]
  },
  {
   "cell_type": "code",
   "execution_count": null,
   "metadata": {},
   "outputs": [],
   "source": []
  },
  {
   "cell_type": "markdown",
   "metadata": {},
   "source": [
    "## Modèles de Classification\n",
    "Dans cette section, nous allons créer et évaluer plusieurs modèles de classification afin de prédire... (ici on met des definitions rapide et insights sur les modeles (interpretabilité vs performance...))"
   ]
  },
  {
   "cell_type": "code",
   "execution_count": null,
   "metadata": {},
   "outputs": [],
   "source": []
  },
  {
   "cell_type": "markdown",
   "metadata": {},
   "source": [
    "## Application des modèles\n",
    "### 0. Préparation des données d'apprentissage et de test"
   ]
  },
  {
   "cell_type": "code",
   "execution_count": 88,
   "metadata": {},
   "outputs": [],
   "source": [
    "from sklearn.model_selection import train_test_split\n",
    "\n",
    "X_train, X_test, y_train, y_test = train_test_split(\n",
    "    X, y, test_size=0.3, random_state=42, stratify=y\n",
    ")"
   ]
  },
  {
   "cell_type": "code",
   "execution_count": 89,
   "metadata": {},
   "outputs": [
    {
     "name": "stdout",
     "output_type": "stream",
     "text": [
      "<class 'pandas.core.frame.DataFrame'>\n",
      "Index: 1323 entries, 3662 to 4\n",
      "Data columns (total 13 columns):\n",
      " #   Column                             Non-Null Count  Dtype  \n",
      "---  ------                             --------------  -----  \n",
      " 0   EnvironmentSatisfaction            1323 non-null   float64\n",
      " 1   JobSatisfaction                    1323 non-null   float64\n",
      " 2   WorkLifeBalance                    1323 non-null   float64\n",
      " 3   NumCompaniesWorked                 1323 non-null   float64\n",
      " 4   TotalWorkingYears                  1323 non-null   float64\n",
      " 5   AverageWorkHours_x                 1323 non-null   float64\n",
      " 6   AverageWorkHours_y                 1323 non-null   float64\n",
      " 7   YearsSinceLastPromotionRatio       1323 non-null   float64\n",
      " 8   Department_Human Resources         1323 non-null   bool   \n",
      " 9   Department_Research & Development  1323 non-null   bool   \n",
      " 10  Department_Sales                   1323 non-null   bool   \n",
      " 11  Gender_Female                      1323 non-null   bool   \n",
      " 12  Gender_Male                        1323 non-null   bool   \n",
      "dtypes: bool(5), float64(8)\n",
      "memory usage: 99.5 KB\n"
     ]
    }
   ],
   "source": [
    "X_test.info()"
   ]
  },
  {
   "cell_type": "markdown",
   "metadata": {},
   "source": [
    "### 1. Régression Logistique"
   ]
  },
  {
   "cell_type": "markdown",
   "metadata": {},
   "source": [
    "Ici, ajouter plusieurs cellules (entrainement, evaluation, optimisation, explicabilité)"
   ]
  },
  {
   "cell_type": "code",
   "execution_count": 91,
   "metadata": {},
   "outputs": [
    {
     "name": "stdout",
     "output_type": "stream",
     "text": [
      "Matrice de Confusion (Régression Logistique) :\n",
      " [[1091   19]\n",
      " [ 181   32]]\n",
      "Rapport de Classification (Régression Logistique) :\n",
      "               precision    recall  f1-score   support\n",
      "\n",
      "           0       0.86      0.98      0.92      1110\n",
      "           1       0.63      0.15      0.24       213\n",
      "\n",
      "    accuracy                           0.85      1323\n",
      "   macro avg       0.74      0.57      0.58      1323\n",
      "weighted avg       0.82      0.85      0.81      1323\n",
      "\n",
      "AUC-ROC (Régression Logistique) :\n",
      " 0.5665588123334602\n"
     ]
    },
    {
     "data": {
      "image/png": "[encoded data removed]",
      "text/plain": [
       "<Figure size 640x480 with 1 Axes>"
      ]
     },
     "metadata": {},
     "output_type": "display_data"
    }
   ],
   "source": [
    "from sklearn.linear_model import LogisticRegression\n",
    "from sklearn.metrics import confusion_matrix, classification_report, roc_auc_score, roc_curve\n",
    "\n",
    "# Initialisation et entraînement du modèle\n",
    "\n",
    "log_reg = LogisticRegression()\n",
    "log_reg.fit(X_train,y_train)\n",
    "\n",
    "# Prédictions\n",
    "y_pred_log_reg = log_reg.predict(X_test)\n",
    "\n",
    "# Matrice de confusion\n",
    "conf_matrix_log_reg = confusion_matrix(y_test, y_pred_log_reg)\n",
    "print(\"Matrice de Confusion (Régression Logistique) :\\n\", conf_matrix_log_reg)\n",
    "\n",
    "# Rapport de classification\n",
    "class_report_log_reg = classification_report(y_test, y_pred_log_reg)\n",
    "print(\"Rapport de Classification (Régression Logistique) :\\n\", class_report_log_reg)\n",
    "\n",
    "# AUC-ROC\n",
    "roc_auc_log_reg = roc_auc_score(y_test, y_pred_log_reg)\n",
    "print(\"AUC-ROC (Régression Logistique) :\\n\", roc_auc_log_reg)\n",
    "\n",
    "# Courbe ROC\n",
    "fpr_log_reg, tpr_log_reg, thresholds_log_reg = roc_curve(y_test, y_pred_log_reg)\n",
    "plt.plot(fpr_log_reg, tpr_log_reg, label=\"Régression Logistique\")\n",
    "plt.xlabel(\"Taux de Faux Positifs\")\n",
    "plt.ylabel(\"Taux de Vrais Positifs\")\n",
    "plt.title(\"Courbe ROC\")\n",
    "plt.legend()\n",
    "plt.show()"
   ]
  },
  {
   "cell_type": "markdown",
   "metadata": {},
   "source": [
    "### 2. Random Forest"
   ]
  },
  {
   "cell_type": "markdown",
   "metadata": {},
   "source": [
    "Ici, ajouter plusieurs cellules (entrainement, evaluation, optimisation, explicabilité)"
   ]
  },
  {
   "cell_type": "code",
   "execution_count": 92,
   "metadata": {},
   "outputs": [
    {
     "name": "stdout",
     "output_type": "stream",
     "text": [
      "Matrice de Confusion (Random Forest) :\n",
      " [[1109    1]\n",
      " [  28  185]]\n",
      "Rapport de Classification (Random Forest) :\n",
      "               precision    recall  f1-score   support\n",
      "\n",
      "           0       0.98      1.00      0.99      1110\n",
      "           1       0.99      0.87      0.93       213\n",
      "\n",
      "    accuracy                           0.98      1323\n",
      "   macro avg       0.98      0.93      0.96      1323\n",
      "weighted avg       0.98      0.98      0.98      1323\n",
      "\n",
      "AUC-ROC (Random Forest) :\n",
      " 0.9338218500190331\n"
     ]
    },
    {
     "data": {
      "image/png": "[encoded data removed]",
      "text/plain": [
       "<Figure size 640x480 with 1 Axes>"
      ]
     },
     "metadata": {},
     "output_type": "display_data"
    }
   ],
   "source": [
    "from sklearn.ensemble import RandomForestClassifier\n",
    "\n",
    "# Initialisation et entraînement du modèle\n",
    "rf_model = RandomForestClassifier(n_estimators=100, random_state=42)\n",
    "rf_model.fit(X_train, y_train)\n",
    "\n",
    "# Prédictions\n",
    "y_pred_rf = rf_model.predict(X_test)\n",
    "\n",
    "# Matrice de confusion\n",
    "conf_matrix_rf = confusion_matrix(y_test, y_pred_rf)\n",
    "print(\"Matrice de Confusion (Random Forest) :\\n\", conf_matrix_rf)\n",
    "\n",
    "# Rapport de classification\n",
    "class_report_rf = classification_report(y_test, y_pred_rf)\n",
    "print(\"Rapport de Classification (Random Forest) :\\n\", class_report_rf)\n",
    "\n",
    "# AUC-ROC\n",
    "roc_auc_rf = roc_auc_score(y_test, y_pred_rf)\n",
    "print(\"AUC-ROC (Random Forest) :\\n\", roc_auc_rf)\n",
    "\n",
    "# Courbe ROC\n",
    "y_proba_rf = rf_model.predict_proba(X_test)[:, 1]\n",
    "fpr_rf, tpr_rf, thresholds_rf = roc_curve(y_test, y_proba_rf)\n",
    "plt.figure()\n",
    "plt.plot(fpr_rf, tpr_rf, label=\"Random Forest\")\n",
    "plt.xlabel(\"Taux de Faux Positifs\")\n",
    "plt.ylabel(\"Taux de Vrais Positifs\")\n",
    "plt.title(\"Courbe ROC\")\n",
    "plt.legend()\n",
    "plt.show()"
   ]
  },
  {
   "cell_type": "markdown",
   "metadata": {},
   "source": [
    "# Etude comparative entre les modèles"
   ]
  },
  {
   "cell_type": "markdown",
   "metadata": {},
   "source": []
  },
  {
   "cell_type": "code",
   "execution_count": null,
   "metadata": {},
   "outputs": [],
   "source": []
  },
  {
   "cell_type": "markdown",
   "metadata": {},
   "source": [
    "## Interprétation des Résultats\n",
    "### 1. Analyse des Performances"
   ]
  },
  {
   "cell_type": "code",
   "execution_count": null,
   "metadata": {},
   "outputs": [],
   "source": []
  },
  {
   "cell_type": "markdown",
   "metadata": {},
   "source": [
    "## Conclusion\n",
    "### 1. Synthèse des Travaux Réalisés"
   ]
  }
 ],
 "metadata": {
  "kernelspec": {
   "display_name": "Python 3",
   "language": "python",
   "name": "python3"
  },
  "language_info": {
   "codemirror_mode": {
    "name": "ipython",
    "version": 3
   },
   "file_extension": ".py",
   "mimetype": "text/x-python",
   "name": "python",
   "nbconvert_exporter": "python",
   "pygments_lexer": "ipython3",
   "version": "3.12.2"
  }
 },
 "nbformat": 4,
 "nbformat_minor": 2
}
